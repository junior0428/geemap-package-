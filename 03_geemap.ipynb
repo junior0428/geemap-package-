{
  "nbformat": 4,
  "nbformat_minor": 0,
  "metadata": {
    "colab": {
      "name": "03_geemap.ipynb",
      "provenance": [],
      "authorship_tag": "ABX9TyN4bjaIaP+Gb5eoN+PEWuza",
      "include_colab_link": true
    },
    "kernelspec": {
      "name": "python3",
      "display_name": "Python 3"
    },
    "language_info": {
      "name": "python"
    }
  },
  "cells": [
    {
      "cell_type": "markdown",
      "metadata": {
        "id": "view-in-github",
        "colab_type": "text"
      },
      "source": [
        "<a href=\"https://colab.research.google.com/github/junior0428/geemap-package-/blob/main/03_geemap.ipynb\" target=\"_parent\"><img src=\"https://colab.research.google.com/assets/colab-badge.svg\" alt=\"Open In Colab\"/></a>"
      ]
    },
    {
      "cell_type": "code",
      "metadata": {
        "id": "-cGUpnIKIjo4"
      },
      "source": [
        "!pip install geemap"
      ],
      "execution_count": null,
      "outputs": []
    },
    {
      "cell_type": "code",
      "metadata": {
        "id": "UPrUECcRI2_q"
      },
      "source": [
        "import ee \n",
        "import geemap.eefolium as geemap"
      ],
      "execution_count": null,
      "outputs": []
    },
    {
      "cell_type": "code",
      "metadata": {
        "id": "ObGN9uhuI_Qt"
      },
      "source": [
        "image=ee.Image(\"CGIAR/SRTM90_V4\")"
      ],
      "execution_count": null,
      "outputs": []
    },
    {
      "cell_type": "code",
      "metadata": {
        "id": "t5EMNBpOJjiU"
      },
      "source": [
        "Map.addLayer(image, {}, 'DEM')\n",
        "Map.setCenter(-12, -75, 4)"
      ],
      "execution_count": null,
      "outputs": []
    },
    {
      "cell_type": "code",
      "metadata": {
        "id": "g_KbPDTjJ0hP"
      },
      "source": [
        "import ee\n",
        "import geemap"
      ],
      "execution_count": null,
      "outputs": []
    },
    {
      "cell_type": "code",
      "metadata": {
        "id": "F3TTqAREJ4y3"
      },
      "source": [
        "Map=geemap.Map()"
      ],
      "execution_count": null,
      "outputs": []
    },
    {
      "cell_type": "code",
      "metadata": {
        "id": "qIhssSvPKKhA"
      },
      "source": [
        "image=ee.Image(\"CGIAR/SRTM90_V4\")"
      ],
      "execution_count": null,
      "outputs": []
    },
    {
      "cell_type": "code",
      "metadata": {
        "id": "jLCFmFcoKUKd"
      },
      "source": [
        "Map.addLayer(image, {}, 'DEM')\n",
        "Map.setCenter(-12, -75, 4)"
      ],
      "execution_count": null,
      "outputs": []
    },
    {
      "cell_type": "code",
      "metadata": {
        "id": "BKFqAPwYKnmR"
      },
      "source": [
        "geemap.conversion.js_to_python(in_file,\n",
        "                               out_file=None,\n",
        "                               use_qgis=True,\n",
        "                               github_repo=None)"
      ],
      "execution_count": null,
      "outputs": []
    },
    {
      "cell_type": "code",
      "metadata": {
        "id": "y82iKzFVQutL"
      },
      "source": [
        "geemap.conversion.js_to_python_dir(in_dir,\n",
        "                                   out_dir=None,\n",
        "                                   use_qgis=True,\n",
        "                                   github_repo=None)"
      ],
      "execution_count": null,
      "outputs": []
    },
    {
      "cell_type": "code",
      "metadata": {
        "id": "HYMhS6SKQ4tO"
      },
      "source": [
        "geemap.conversion.py_to_ipynb(in_file,\n",
        "                              template_file,\n",
        "                              out_file=None,\n",
        "                              github_username=None,\n",
        "                              github_repo=None)"
      ],
      "execution_count": null,
      "outputs": []
    }
  ]
}